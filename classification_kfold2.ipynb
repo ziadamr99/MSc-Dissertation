{
 "cells": [
  {
   "cell_type": "code",
   "execution_count": 102,
   "id": "5491ed80",
   "metadata": {},
   "outputs": [],
   "source": [
    "from numpy import mean\n",
    "from numpy import isnan\n",
    "from numpy import asarray\n",
    "from numpy import polyfit\n",
    "from scipy.stats import pearsonr\n",
    "from matplotlib import pyplot\n",
    "import matplotlib.pyplot as plt\n",
    "from sklearn.datasets import make_classification\n",
    "from sklearn.model_selection import KFold\n",
    "from sklearn.model_selection import LeaveOneOut\n",
    "from sklearn.model_selection import cross_val_score\n",
    "from sklearn.linear_model import LogisticRegression\n",
    "from sklearn.linear_model import RidgeClassifier\n",
    "from sklearn.linear_model import SGDClassifier\n",
    "from sklearn.linear_model import PassiveAggressiveClassifier\n",
    "from sklearn.neighbors import KNeighborsClassifier\n",
    "from sklearn.tree import DecisionTreeClassifier\n",
    "from sklearn.tree import ExtraTreeClassifier\n",
    "from sklearn.svm import LinearSVC\n",
    "from sklearn.svm import SVC\n",
    "from sklearn.naive_bayes import GaussianNB\n",
    "from sklearn.ensemble import AdaBoostClassifier\n",
    "from sklearn.ensemble import BaggingClassifier\n",
    "from sklearn.ensemble import RandomForestClassifier\n",
    "from sklearn.ensemble import ExtraTreesClassifier\n",
    "from sklearn.gaussian_process import GaussianProcessClassifier\n",
    "from sklearn.ensemble import GradientBoostingClassifier\n",
    "from sklearn.discriminant_analysis import LinearDiscriminantAnalysis\n",
    "from sklearn.discriminant_analysis import QuadraticDiscriminantAnalysis\n",
    "import pandas as pd\n",
    "import numpy as np\n",
    "import glob\n",
    "from sklearn.model_selection import cross_val_predict\n",
    "from sklearn.metrics import confusion_matrix\n",
    "import seaborn as sns\n",
    "from sklearn.naive_bayes import GaussianNB\n",
    "from sklearn.discriminant_analysis import QuadraticDiscriminantAnalysis\n"
   ]
  },
  {
   "cell_type": "code",
   "execution_count": 103,
   "id": "2d380cb7",
   "metadata": {},
   "outputs": [
    {
     "name": "stdout",
     "output_type": "stream",
     "text": [
      "(360,)\n"
     ]
    }
   ],
   "source": [
    "y=[]\n",
    "for i in range(18):\n",
    "    y= np.append(y,[i]*20)\n",
    "print(np.shape(y))"
   ]
  },
  {
   "cell_type": "code",
   "execution_count": 104,
   "id": "81432330",
   "metadata": {},
   "outputs": [],
   "source": [
    "X=[]\n",
    "\n",
    "path0 = \"/home/nest/Downloads/poses_w1.5_d10/p0\"\n",
    "all_files0 = glob.glob(path0 + \"/*.csv\")\n",
    "for filename0 in all_files0:\n",
    "    df = pd.read_csv(filename0, index_col=0, header=0)\n",
    "    X.append(df)\n",
    "\n",
    "path1 = \"/home/nest/Downloads/poses_w1.5_d10/p1\"\n",
    "all_files1 = glob.glob(path1 + \"/*.csv\")\n",
    "for filename1 in all_files1:\n",
    "    df = pd.read_csv(filename1, index_col=0, header=0)\n",
    "    X.append(df)\n",
    "\n",
    "path2 = \"/home/nest/Downloads/poses_w1.5_d10/p2\"\n",
    "all_files2 = glob.glob(path2 + \"/*.csv\")\n",
    "for filename2 in all_files2:\n",
    "    df = pd.read_csv(filename2, index_col=0, header=0)\n",
    "    X.append(df)\n",
    "\n",
    "path3 = \"/home/nest/Downloads/poses_w1.5_d10/p3\"\n",
    "all_files3 = glob.glob(path3 + \"/*.csv\")\n",
    "for filename3 in all_files3:\n",
    "    df = pd.read_csv(filename3, index_col=0, header=0)\n",
    "    X.append(df)\n",
    "\n",
    "path4 = \"/home/nest/Downloads/poses_w1.5_d10/p4\"\n",
    "all_files4 = glob.glob(path4 + \"/*.csv\")\n",
    "for filename4 in all_files4:\n",
    "    df = pd.read_csv(filename4, index_col=0, header=0)\n",
    "    X.append(df)\n",
    "\n",
    "path5 = \"/home/nest/Downloads/poses_w1.5_d10/p5\"\n",
    "all_files5 = glob.glob(path5 + \"/*.csv\")\n",
    "for filename5 in all_files5:\n",
    "    df = pd.read_csv(filename5, index_col=0, header=0)\n",
    "    X.append(df)\n",
    "\n",
    "path6 = \"/home/nest/Downloads/poses_w1.5_d10/p6\"\n",
    "all_files6 = glob.glob(path6 + \"/*.csv\")\n",
    "for filename6 in all_files6:\n",
    "    df = pd.read_csv(filename6, index_col=0, header=0)\n",
    "    X.append(df)\n",
    "\n",
    "path7 = \"/home/nest/Downloads/poses_w1.5_d10/p7\"\n",
    "all_files7 = glob.glob(path7 + \"/*.csv\")\n",
    "for filename7 in all_files7:\n",
    "    df = pd.read_csv(filename7, index_col=0, header=0)\n",
    "    X.append(df)\n",
    "\n",
    "path8 = \"/home/nest/Downloads/poses_w1.5_d10/p8\"\n",
    "all_files8 = glob.glob(path8 + \"/*.csv\")\n",
    "for filename8 in all_files8:\n",
    "    df = pd.read_csv(filename8, index_col=0, header=0)\n",
    "    X.append(df)\n",
    "\n",
    "\n",
    "path9 = \"/home/nest/Downloads/poses_w1.5_d10/p9\"\n",
    "all_files9 = glob.glob(path9 + \"/*.csv\")\n",
    "for filename9 in all_files9:\n",
    "    df = pd.read_csv(filename9, index_col=0, header=0)\n",
    "    X.append(df)\n",
    "\n",
    "path10 = \"/home/nest/Downloads/poses_w1.5_d10/p10\"\n",
    "all_files10 = glob.glob(path10 + \"/*.csv\")\n",
    "for filename10 in all_files10:\n",
    "    df = pd.read_csv(filename10, index_col=0, header=0)\n",
    "    X.append(df)\n",
    "path11 = \"/home/nest/Downloads/poses_w1.5_d10/p11\"\n",
    "all_files11 = glob.glob(path11 + \"/*.csv\")\n",
    "for filename11 in all_files11:\n",
    "    df = pd.read_csv(filename11, index_col=0, header=0)\n",
    "    X.append(df)\n",
    "\n",
    "path12 = \"/home/nest/Downloads/poses_w1.5_d10/p12\"\n",
    "all_files12 = glob.glob(path12 + \"/*.csv\")\n",
    "for filename12 in all_files12:\n",
    "    df = pd.read_csv(filename12, index_col=0, header=0)\n",
    "    X.append(df)\n",
    "\n",
    "path13 = \"/home/nest/Downloads/poses_w1.5_d10/p13\"\n",
    "all_files13 = glob.glob(path13 + \"/*.csv\")\n",
    "for filename13 in all_files13:\n",
    "    df = pd.read_csv(filename13, index_col=0, header=0)\n",
    "    X.append(df)\n",
    "path14 = \"/home/nest/Downloads/poses_w1.5_d10/p14\"\n",
    "all_files14 = glob.glob(path14 + \"/*.csv\")\n",
    "for filename14 in all_files14:\n",
    "    df = pd.read_csv(filename14, index_col=0, header=0)\n",
    "    X.append(df)\n",
    "\n",
    "path15 = \"/home/nest/Downloads/poses_w1.5_d10/p15\"\n",
    "all_files15 = glob.glob(path15 + \"/*.csv\")\n",
    "for filename15 in all_files15:\n",
    "    df = pd.read_csv(filename15, index_col=0, header=0)\n",
    "    X.append(df)\n",
    "\n",
    "path16 = \"/home/nest/Downloads/poses_w1.5_d10/p16\"\n",
    "all_files16 = glob.glob(path16 + \"/*.csv\")\n",
    "for filename16 in all_files16:\n",
    "    df = pd.read_csv(filename16, index_col=0, header=0)\n",
    "    X.append(df)\n",
    "\n",
    "path17 = \"/home/nest/Downloads/poses_w1.5_d10/p17\"\n",
    "all_files17 = glob.glob(path17 + \"/*.csv\")\n",
    "for filename17 in all_files17:\n",
    "    df = pd.read_csv(filename17, index_col=0, header=0)\n",
    "    X.append(df)\n",
    "nsamples1, nx1, ny1 = np.shape(X)\n",
    "X_2d = np.reshape(X,(nsamples1, nx1 * ny1))"
   ]
  },
  {
   "cell_type": "code",
   "execution_count": 95,
   "id": "93d82fdb",
   "metadata": {},
   "outputs": [
    {
     "name": "stdout",
     "output_type": "stream",
     "text": [
      "(360, 144)\n",
      "(360,)\n"
     ]
    }
   ],
   "source": [
    "print(np.shape(X_2d))\n",
    "print(np.shape(y))"
   ]
  },
  {
   "cell_type": "code",
   "execution_count": 120,
   "id": "fc7cdcf2",
   "metadata": {},
   "outputs": [],
   "source": [
    "def get_models():\n",
    "\tmodels = list()\n",
    "# \t#models.append(LogisticRegression(max_iter=500))\n",
    "# \tmodels.append(RidgeClassifier())\n",
    "# \tmodels.append(SGDClassifier())\n",
    "# \t#models.append(PassiveAggressiveClassifier())\n",
    "# \tmodels.append(KNeighborsClassifier(n_jobs=1, n_neighbors=6, p=3.0))\n",
    "\tmodels.append(DecisionTreeClassifier(criterion='entropy', min_samples_leaf=2,\n",
    "                      min_samples_split=8, random_state=4))\n",
    "# \tmodels.append(ExtraTreeClassifier(max_features=0.1380706497735259, min_samples_leaf=2,\n",
    "#                        random_state=3\n",
    "# ))\n",
    "# \t#models.append(LinearSVC(max_iter=1000))\n",
    "# \tmodels.append(SVC(C=127.80269520579066, cache_size=512, degree=1, gamma='auto',\n",
    "#     kernel='linear', max_iter=25649360.0, random_state=2,\n",
    "#     tol=0.00010552895332175805\n",
    "# ))\n",
    "# # \tmodels.append(GaussianNB())\n",
    "# \tmodels.append(AdaBoostClassifier(algorithm='SAMME', learning_rate=3.2928640911569658,\n",
    "#                    n_estimators=857, random_state=0\n",
    "# ))\n",
    "# \tmodels.append(BaggingClassifier())\n",
    "# \tmodels.append(RandomForestClassifier())\n",
    "#\tmodels.append(ExtraTreesClassifier(max_features=0.1380706497735259, min_samples_leaf=2,\n",
    "                 #    n_estimators=235, n_jobs=1, random_state=3, verbose=False))\n",
    "# \t# models.append(GaussianProcessClassifier())\n",
    "# \t# models.append(GradientBoostingClassifier())\n",
    "#\tmodels.append(QuadraticDiscriminantAnalysis(reg_param=0.2866465320753242))\n",
    "#\tmodels.append(GaussianNB())\n",
    "\treturn models"
   ]
  },
  {
   "cell_type": "code",
   "execution_count": 121,
   "id": "0f3a0d89",
   "metadata": {},
   "outputs": [],
   "source": [
    "def evaluate_model(cv, model):\n",
    "\t# get the dataset\n",
    "\t\n",
    "\t# evaluate the model\n",
    "\tscores = cross_val_score(model, X_2d, y, scoring='accuracy', cv=cv, n_jobs=-1)\n",
    "\t# return scores\n",
    "\treturn mean(scores)"
   ]
  },
  {
   "cell_type": "code",
   "execution_count": 122,
   "id": "f82186d1",
   "metadata": {},
   "outputs": [],
   "source": [
    "\n",
    "# define test conditions\n",
    "ideal_cv = LeaveOneOut()\n",
    "cv = KFold(n_splits=10, shuffle=True, random_state=1)\n",
    "# get the list of models to consider\n",
    "models = get_models()\n",
    "# collect results\n",
    "ideal_results, cv_results = list(), list()"
   ]
  },
  {
   "cell_type": "code",
   "execution_count": 123,
   "id": "b67eab8d",
   "metadata": {},
   "outputs": [],
   "source": [
    "# z = [abs(a-b) for a,b in y_pred, y]\n",
    "#     sum z\n",
    "#     z*10\n",
    "#     z/360\n",
    "def ae():\n",
    "    list1 = y_pred\n",
    "    list2 = y\n",
    "    difference = []\n",
    "\n",
    "    zip_object = zip(list1, list2)\n",
    "    for list1_i, list2_i in zip_object:\n",
    "        difference.append(list1_i-list2_i)\n",
    "    res = [abs(element) for element in difference]\n",
    "    z=sum(res)\n",
    "    z=z*10\n",
    "    z=z/360\n",
    "    return z"
   ]
  },
  {
   "cell_type": "code",
   "execution_count": 124,
   "id": "1e7db18d",
   "metadata": {},
   "outputs": [
    {
     "name": "stdout",
     "output_type": "stream",
     "text": [
      ">DecisionTreeClassifier: ideal=0.844, cv=0.833, AE=0.250\n"
     ]
    },
    {
     "data": {
      "image/png": "[encoded data removed]",
      "text/plain": [
       "<Figure size 432x288 with 2 Axes>"
      ]
     },
     "metadata": {
      "needs_background": "light"
     },
     "output_type": "display_data"
    }
   ],
   "source": [
    "for model in models:\n",
    "\t# evaluate model using each test condition\n",
    "\tcv_mean = evaluate_model(cv, model)\n",
    "\tideal_mean = evaluate_model(ideal_cv, model)\n",
    "\t# check for invalid results\n",
    "\tif isnan(cv_mean) or isnan(ideal_mean):\n",
    "\t\tcontinue\n",
    "\t# store results\n",
    "\tcv_results.append(cv_mean)\n",
    "\tideal_results.append(ideal_mean)\n",
    "\t# summarize progress\n",
    "\tangle= ae()\n",
    "\ty_pred = cross_val_predict(model, X_2d, y, cv=cv)\n",
    "\tprint('>%s: ideal=%.3f, cv=%.3f, AE=%.3f' % (type(model).__name__, ideal_mean, cv_mean, angle))\n",
    "\tconf_mat= confusion_matrix(y, y_pred)\n",
    "\tplt.figure()\n",
    "\tsns.heatmap(conf_mat, annot=True)\n",
    "\tplt.savefig(\"DecisionTreeClassifier\")\n",
    "\n",
    "# \ty_pred[idx] = cross_val_predict(model, X_2d, y, cv=cv)\n",
    "# \tconf_mat[idx] = confusion_matrix(y, y_pred)\n",
    "# \tsns.heatmap(conf_mat, annot=True)\n"
   ]
  },
  {
   "cell_type": "code",
   "execution_count": 119,
   "id": "e337efea",
   "metadata": {},
   "outputs": [
    {
     "name": "stdout",
     "output_type": "stream",
     "text": [
      "[0.0, 0.0, 0.0, 0.0, 0.0, 0.0, 0.0, 0.0, 0.0, 0.0, 0.0, 0.0, 0.0, 1.0, 0.0, 0.0, 0.0, 0.0, 0.0, 0.0, 0.0, 0.0, 0.0, 0.0, 0.0, 0.0, 0.0, 0.0, 0.0, 0.0, 0.0, 0.0, 0.0, 0.0, 0.0, 0.0, 0.0, 0.0, 0.0, 0.0, 0.0, 0.0, 0.0, 0.0, 0.0, 0.0, 0.0, 0.0, 0.0, 0.0, 0.0, 0.0, 0.0, 0.0, 0.0, 1.0, 0.0, 0.0, 0.0, 0.0, 0.0, 0.0, 0.0, 0.0, 0.0, 0.0, 0.0, 0.0, 0.0, 0.0, 0.0, 0.0, 0.0, 0.0, 0.0, 0.0, 0.0, 0.0, 0.0, 0.0, 0.0, 0.0, 0.0, 0.0, 0.0, 0.0, 0.0, 0.0, 0.0, 0.0, 0.0, 0.0, 0.0, 0.0, 0.0, 0.0, 0.0, 0.0, 0.0, 0.0, 0.0, 0.0, 0.0, 0.0, 1.0, 0.0, 0.0, 0.0, 0.0, 0.0, 0.0, 0.0, 0.0, 0.0, 0.0, 0.0, 0.0, 0.0, 0.0, 0.0, 0.0, 0.0, 0.0, 0.0, 0.0, 0.0, 0.0, 0.0, 0.0, 0.0, 0.0, 0.0, 0.0, 0.0, 0.0, 0.0, 0.0, 0.0, 0.0, 0.0, 0.0, 0.0, 0.0, 0.0, 0.0, 0.0, 0.0, 0.0, 0.0, 0.0, 0.0, 0.0, 0.0, 0.0, 0.0, 0.0, 0.0, 0.0, 0.0, 0.0, 0.0, 0.0, 0.0, 0.0, 0.0, 0.0, 0.0, 0.0, 0.0, 0.0, 0.0, 0.0, 0.0, 0.0, 0.0, 0.0, 0.0, 0.0, 0.0, 0.0, 0.0, 0.0, 0.0, 0.0, 0.0, 0.0, 0.0, 0.0, 0.0, 0.0, 0.0, 0.0, 0.0, 0.0, 0.0, 0.0, 0.0, 0.0, 0.0, 0.0, 0.0, 0.0, 0.0, 0.0, 0.0, 0.0, 0.0, 0.0, 0.0, 0.0, 0.0, 0.0, 0.0, 1.0, 1.0, 0.0, 0.0, 0.0, 0.0, 0.0, 0.0, 0.0, 0.0, 0.0, 0.0, 0.0, 0.0, 0.0, 0.0, 0.0, 0.0, 0.0, 0.0, 0.0, 0.0, 0.0, 0.0, 0.0, 0.0, 0.0, 0.0, 0.0, 0.0, 0.0, 0.0, 0.0, 0.0, 0.0, 0.0, 0.0, 0.0, 0.0, 0.0, 0.0, 0.0, 0.0, 0.0, 0.0, 0.0, 0.0, 0.0, 0.0, 0.0, 0.0, 0.0, 0.0, 0.0, 0.0, 0.0, 0.0, 0.0, 0.0, 0.0, 0.0, 0.0, 0.0, 0.0, 0.0, 0.0, 0.0, 0.0, 0.0, 0.0, 0.0, 1.0, 0.0, 0.0, 0.0, 0.0, 0.0, 0.0, 0.0, 0.0, 0.0, 0.0, 0.0, 0.0, 1.0, 0.0, 0.0, 0.0, 0.0, 0.0, 0.0, 0.0, 0.0, 0.0, 0.0, 0.0, 0.0, 0.0, 0.0, 0.0, 0.0, 0.0, 0.0, 0.0, 0.0, 0.0, 0.0, 0.0, 0.0, 0.0, 0.0, 1.0, 0.0, 0.0, 0.0, 0.0, 0.0, 0.0, 0.0, 0.0, 0.0, 0.0, 0.0, 0.0, 1.0, 0.0, 0.0, 0.0, 0.0, 0.0, 0.0, 0.0, 0.0, 0.0, 0.0, 0.0, 0.0, 0.0, 0.0, 0.0, 0.0, 0.0, 0.0, 0.0, 0.0, 0.0, 0.0]\n"
     ]
    }
   ],
   "source": [
    "list1 = y_pred\n",
    "list2 = y\n",
    "difference = []\n",
    "\n",
    "zip_object = zip(list1, list2)\n",
    "for list1_i, list2_i in zip_object:\n",
    "    difference.append(list1_i-list2_i)\n",
    "res = [abs(element) for element in difference]\n",
    "z=sum(res)\n",
    "z=z*10\n",
    "z=z/360\n",
    "print(res)"
   ]
  },
  {
   "cell_type": "code",
   "execution_count": 11,
   "id": "22a375af",
   "metadata": {},
   "outputs": [
    {
     "name": "stdout",
     "output_type": "stream",
     "text": [
      "Correlation: 0.999\n"
     ]
    },
    {
     "data": {
      "image/png": "[encoded data removed]",
      "text/plain": [
       "<Figure size 432x288 with 1 Axes>"
      ]
     },
     "metadata": {
      "needs_background": "light"
     },
     "output_type": "display_data"
    }
   ],
   "source": []
  },
  {
   "cell_type": "code",
   "execution_count": null,
   "id": "fa62e92d",
   "metadata": {},
   "outputs": [],
   "source": []
  }
 ],
 "metadata": {
  "kernelspec": {
   "display_name": "Python 3",
   "language": "python",
   "name": "python3"
  },
  "language_info": {
   "codemirror_mode": {
    "name": "ipython",
    "version": 3
   },
   "file_extension": ".py",
   "mimetype": "text/x-python",
   "name": "python",
   "nbconvert_exporter": "python",
   "pygments_lexer": "ipython3",
   "version": "3.9.7"
  }
 },
 "nbformat": 4,
 "nbformat_minor": 5
}
